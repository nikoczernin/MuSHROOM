{
 "cells": [
  {
   "cell_type": "code",
   "execution_count": 2,
   "metadata": {
    "collapsed": true
   },
   "outputs": [],
   "source": [
    "import pandas as pd\n",
    "from baseline_utils import get_data_for_NN, set_seed\n",
    "import os"
   ]
  },
  {
   "cell_type": "code",
   "execution_count": 3,
   "outputs": [],
   "source": [
    "set_seed(420)"
   ],
   "metadata": {
    "collapsed": false
   }
  },
  {
   "cell_type": "code",
   "execution_count": 16,
   "outputs": [],
   "source": [
    "def compute_accuracy(y, yhat):\n",
    "    correct = sum(1 for yt, yh in zip(y, yhat) if yt == yh)\n",
    "    return correct / len(y)\n",
    "\n",
    "def compute_recall(y, yhat):\n",
    "    true_positives = sum(1 for yt, yh in zip(y, yhat) if yt == 1 and yh == 1)\n",
    "    false_negatives = sum(1 for yt, yh in zip(y, yhat) if yt == 1 and yh == 0)\n",
    "    # Avoid division by zero\n",
    "    if true_positives + false_negatives == 0:\n",
    "        return 0.0\n",
    "    return true_positives / (true_positives + false_negatives)"
   ],
   "metadata": {
    "collapsed": false
   }
  },
  {
   "cell_type": "markdown",
   "source": [
    "# Label length weirdness\n",
    "While comparing actual and predicted labels, we came across the weird problem, that the labels did not match the original text inputs anymore. To be exact, the labels were suddenly more numerous than the tokens we had them for. Here is the reason: The tokeniser splits some words that we would otherwise not think to split (of row 426 of the evaluation data, i.e. after overflow handling):\n"
   ],
   "metadata": {
    "collapsed": false
   }
  },
  {
   "cell_type": "code",
   "execution_count": 4,
   "outputs": [
    {
     "name": "stdout",
     "output_type": "stream",
     "text": [
      "Number of tokens after the [SEP] token: 229\n"
     ]
    }
   ],
   "source": [
    "tokens = ['[CLS]', '[CLS]', 'In', 'welcher', 'Weise', 'wurde', 'die', 'Red', 'Bull', 'Arena', 'in', 'W', '##als', '-', 'Sie', '##zen', '##heim', 'für', 'die', 'Fu', '##ss', '##ball', '-', 'EM', 'umgebaut', '?', '[SEP]', 'der', 'Red', '-', 'Bull', '-', 'Arena', 'werden', 'für', 'der', 'Turnier', 'in', 'zwei', 'Phase', 'um', '##bauen', '.', 'in', 'der', 'erst', 'Phase', 'werden', 'der', 'Stadion', 'für', 'ein', 'Kap', '##azi', '##tät', 'von', '30', '.', '000', 'Zuschauer', '[SEP]', '[PAD]', '[PAD]', '[PAD]', '[PAD]', '[PAD]', '[PAD]', '[PAD]', '[PAD]', '[PAD]', '[PAD]', '[PAD]', '[PAD]', '[PAD]', '[PAD]', '[PAD]', '[PAD]', '[PAD]', '[PAD]', '[PAD]', '[PAD]', '[PAD]', '[PAD]', '[PAD]', '[PAD]', '[PAD]', '[PAD]', '[PAD]', '[PAD]', '[PAD]', '[PAD]', '[PAD]', '[PAD]', '[PAD]', '[PAD]', '[PAD]', '[PAD]', '[PAD]', '[PAD]', '[PAD]', '[PAD]', '[PAD]', '[PAD]', '[PAD]', '[PAD]', '[PAD]', '[PAD]', '[PAD]', '[PAD]', '[PAD]', '[PAD]', '[PAD]', '[PAD]', '[PAD]', '[PAD]', '[PAD]', '[PAD]', '[PAD]', '[PAD]', '[PAD]', '[PAD]', '[PAD]', '[PAD]', '[PAD]', '[PAD]', '[PAD]', '[PAD]', '[PAD]', '[PAD]', '[PAD]', '[PAD]', '[PAD]', '[PAD]', '[PAD]', '[PAD]', '[PAD]', '[PAD]', '[PAD]', '[PAD]', '[PAD]', '[PAD]', '[PAD]', '[PAD]', '[PAD]', '[PAD]', '[PAD]', '[PAD]', '[PAD]', '[PAD]', '[PAD]', '[PAD]', '[PAD]', '[PAD]', '[PAD]', '[PAD]', '[PAD]', '[PAD]', '[PAD]', '[PAD]', '[PAD]', '[PAD]', '[PAD]', '[PAD]', '[PAD]', '[PAD]', '[PAD]', '[PAD]', '[PAD]', '[PAD]', '[PAD]', '[PAD]', '[PAD]', '[PAD]', '[PAD]', '[PAD]', '[PAD]', '[PAD]', '[PAD]', '[PAD]', '[PAD]', '[PAD]', '[PAD]', '[PAD]', '[PAD]', '[PAD]', '[PAD]', '[PAD]', '[PAD]', '[PAD]', '[PAD]', '[PAD]', '[PAD]', '[PAD]', '[PAD]', '[PAD]', '[PAD]', '[PAD]', '[PAD]', '[PAD]', '[PAD]', '[PAD]', '[PAD]', '[PAD]', '[PAD]', '[PAD]', '[PAD]', '[PAD]', '[PAD]', '[PAD]', '[PAD]', '[PAD]', '[PAD]', '[PAD]', '[PAD]', '[PAD]', '[PAD]', '[PAD]', '[PAD]', '[PAD]', '[PAD]', '[PAD]', '[PAD]', '[PAD]', '[PAD]', '[PAD]', '[PAD]', '[PAD]', '[PAD]', '[PAD]', '[PAD]', '[PAD]', '[PAD]', '[PAD]', '[PAD]', '[PAD]', '[PAD]', '[PAD]', '[PAD]', '[PAD]', '[PAD]', '[PAD]', '[PAD]', '[PAD]', '[PAD]', '[PAD]', '[PAD]', '[PAD]', '[PAD]', '[PAD]', '[PAD]', '[PAD]', '[PAD]', '[PAD]', '[PAD]', '[PAD]', '[PAD]']\n",
    "print(\"Number of tokens after the [SEP] token:\", len(tokens[tokens.index('[SEP]')+1:]))"
   ],
   "metadata": {
    "collapsed": false
   }
  },
  {
   "cell_type": "code",
   "execution_count": 5,
   "outputs": [
    {
     "data": {
      "text/plain": "229"
     },
     "execution_count": 5,
     "metadata": {},
     "output_type": "execute_result"
    }
   ],
   "source": [
    "y=\"\"\"0    0    0    0    0    0    0    0    0    0    0    1    1    0\n",
    "    0    0    0    0    0    0    0    0    0    0    0    0    0    0\n",
    " -100 -100 -100 -100 -100 -100 -100 -100 -100 -100 -100 -100 -100 -100\n",
    " -100 -100 -100 -100 -100 -100 -100 -100 -100 -100 -100 -100 -100 -100\n",
    " -100 -100 -100 -100 -100 -100 -100 -100 -100 -100 -100 -100 -100 -100\n",
    " -100 -100 -100 -100 -100 -100 -100 -100 -100 -100 -100 -100 -100 -100\n",
    " -100 -100 -100 -100 -100 -100 -100 -100 -100 -100 -100 -100 -100 -100\n",
    " -100 -100 -100 -100 -100 -100 -100 -100 -100 -100 -100 -100 -100 -100\n",
    " -100 -100 -100 -100 -100 -100 -100 -100 -100 -100 -100 -100 -100 -100\n",
    " -100 -100 -100 -100 -100 -100 -100 -100 -100 -100 -100 -100 -100 -100\n",
    " -100 -100 -100 -100 -100 -100 -100 -100 -100 -100 -100 -100 -100 -100\n",
    " -100 -100 -100 -100 -100 -100 -100 -100 -100 -100 -100 -100 -100 -100\n",
    " -100 -100 -100 -100 -100 -100 -100 -100 -100 -100 -100 -100 -100 -100\n",
    " -100 -100 -100 -100 -100 -100 -100 -100 -100 -100 -100 -100 -100 -100\n",
    " -100 -100 -100 -100 -100 -100 -100 -100 -100 -100 -100 -100 -100 -100\n",
    " -100 -100 -100 -100 -100 -100 -100 -100 -100 -100 -100 -100 -100 -100\n",
    " -100 -100 -100 -100 -100\"\"\".split()\n",
    "len(y)"
   ],
   "metadata": {
    "collapsed": false
   }
  },
  {
   "cell_type": "code",
   "execution_count": 6,
   "outputs": [
    {
     "data": {
      "text/plain": "229"
     },
     "execution_count": 6,
     "metadata": {},
     "output_type": "execute_result"
    }
   ],
   "source": [
    "yhat=\"\"\"0 0 0 0 0 1 1 1 1 1 1 0 0 0 0 0 1 0 0 0 1 0 0 0 0 1 0 0 0 1 0 0 0 0 0 1 1\n",
    " 1 1 0 0 0 0 0 0 0 0 0 0 0 0 0 1 1 0 0 0 0 0 0 0 0 0 0 0 0 0 0 0 0 1 1 0 0\n",
    " 1 1 0 0 0 1 1 0 0 0 0 1 1 0 0 0 0 1 0 0 1 1 0 0 0 0 0 0 1 1 0 0 0 0 0 0 0\n",
    " 0 0 0 0 0 0 0 0 0 0 0 0 0 1 1 0 0 0 0 0 0 1 0 0 0 0 0 0 1 1 0 1 0 0 1 1 1\n",
    " 0 0 0 1 0 0 1 1 1 0 0 0 0 1 1 0 1 0 0 1 1 0 0 0 0 0 0 0 0 0 0 0 0 1 1 0 1\n",
    " 0 1 1 1 0 1 1 1 1 1 0 0 1 1 0 1 1 1 1 0 1 1 0 0 1 1 0 0 0 0 0 0 0 0 0 0 0\n",
    " 0 0 0 0 0 1 1\"\"\".split()\n",
    "len(yhat)"
   ],
   "metadata": {
    "collapsed": false
   }
  },
  {
   "cell_type": "markdown",
   "source": [
    "These are the input tokens after tokenisation. The word „Fußball“ has been split into 3 tokens, at positions 19, 20, 21\n"
   ],
   "metadata": {
    "collapsed": false
   }
  },
  {
   "cell_type": "code",
   "execution_count": 7,
   "outputs": [
    {
     "name": "stdout",
     "output_type": "stream",
     "text": [
      "['Fu', '##ss', '##ball']\n",
      "['0', '0', '0']\n",
      "['0', '1', '0']\n"
     ]
    }
   ],
   "source": [
    "print(tokens[19:22])\n",
    "print(y[19:22])\n",
    "print(yhat[19:22])"
   ],
   "metadata": {
    "collapsed": false
   }
  },
  {
   "cell_type": "markdown",
   "source": [
    "Curiously, they have different labels, according to our model at least. Originally, of course, theyre identical.\n",
    "Here is another example for Wals-Siezenheim. Wals was apparently false, while Siezenheim was correct. Both town-names were split."
   ],
   "metadata": {
    "collapsed": false
   }
  },
  {
   "cell_type": "code",
   "execution_count": 8,
   "outputs": [
    {
     "name": "stdout",
     "output_type": "stream",
     "text": [
      "['W', '##als', '-', 'Sie', '##zen', '##heim']\n",
      "['1', '1', '0', '0', '0', '0']\n",
      "['0', '0', '0', '0', '0', '1']\n"
     ]
    }
   ],
   "source": [
    "print(tokens[11:17])\n",
    "print(y[11:17])\n",
    "print(yhat[11:17])"
   ],
   "metadata": {
    "collapsed": false
   }
  },
  {
   "cell_type": "code",
   "execution_count": 9,
   "outputs": [
    {
     "data": {
      "text/plain": "\"'[CLS]', '¿', 'El', 'municipio', 'H', '##ü', '##ffel', '##sheim', ',', 'está', 'ubicado', 'en', 'el', 'este', 'o', 'el', 'oeste', 'de', 'Alemania', '?', '[SEP]', 'h', '##ü', '##ffel', '##sheim', 'ser', 'uno', 'municipio', 'ubicado', 'en', 'el', 'estado', 'de', 'bavi', '##era', ',', 'que', 'estar', 'en', 'el', 'oeste', 'de', 'Alemania', '.', '[SEP]', '[PAD]', '[PAD]', '[PAD]', '[PAD]', '[PAD]', '[PAD]', '[PAD]', '[PAD]', '[PAD]', '[PAD]', '[PAD]', '[PAD]', '[PAD]', '[PAD]', '[PAD]', '[PAD]', '[PAD]', '[PAD]', '[PAD]', '[PAD]', '[PAD]', '[PAD]', '[PAD]', '[PAD]', '[PAD]', '[PAD]', '[PAD]', '[PAD]', '[PAD]', '[PAD]', '[PAD]', '[PAD]', '[PAD]', '[PAD]', '[PAD]', '[PAD]', '[PAD]', '[PAD]', '[PAD]', '[PAD]', '[PAD]', '[PAD]', '[PAD]', '[PAD]', '[PAD]', '[PAD]', '[PAD]', '[PAD]', '[PAD]', '[PAD]', '[PAD]', '[PAD]', '[PAD]', '[PAD]', '[PAD]', '[PAD]', '[PAD]', '[PAD]', '[PAD]', '[PAD]', '[PAD]', '[PAD]', '[PAD]', '[PAD]', '[PAD]', '[PAD]', '[PAD]', '[PAD]', '[PAD]', '[PAD]', '[PAD]', '[PAD]', '[PAD]', '[PAD]', '[PAD]', '[PAD]', '[PAD]', '[PAD]', '[PAD]', '[PAD]', '[PAD]', '[PAD]', '[PAD]', '[PAD]', '[PAD]', '[PAD]', '[PAD]', '[PAD]', '[PAD]', '[PAD]', '[PAD]', '[PAD]', '[PAD]', '[PAD]', '[PAD]', '[PAD]', '[PAD]', '[PAD]', '[PAD]', '[PAD]', '[PAD]', '[PAD]', '[PAD]', '[PAD]', '[PAD]', '[PAD]', '[PAD]', '[PAD]', '[PAD]', '[PAD]', '[PAD]', '[PAD]', '[PAD]', '[PAD]', '[PAD]', '[PAD]', '[PAD]', '[PAD]', '[PAD]', '[PAD]', '[PAD]', '[PAD]', '[PAD]', '[PAD]', '[PAD]', '[PAD]', '[PAD]', '[PAD]', '[PAD]', '[PAD]', '[PAD]', '[PAD]', '[PAD]', '[PAD]', '[PAD]', '[PAD]', '[PAD]', '[PAD]', '[PAD]', '[PAD]', '[PAD]', '[PAD]', '[PAD]', '[PAD]', '[PAD]', '[PAD]', '[PAD]', '[PAD]', '[PAD]', '[PAD]', '[PAD]', '[PAD]', '[PAD]', '[PAD]', '[PAD]', '[PAD]', '[PAD]', '[PAD]', '[PAD]', '[PAD]', '[PAD]', '[PAD]', '[PAD]', '[PAD]', '[PAD]', '[PAD]', '[PAD]', '[PAD]', '[PAD]', '[PAD]', '[PAD]', '[PAD]', '[PAD]', '[PAD]', '[PAD]', '[PAD]', '[PAD]', '[PAD]', '[PAD]', '[PAD]', '[PAD]', '[PAD]', '[PAD]', '[PAD]', '[PAD]', '[PAD]', '[PAD]', '[PAD]', '[PAD]', '[PAD]', '[PAD]', '[PAD]', '[PAD]', '[PAD]', '[PAD]', '[PAD]', '[PAD]', '[PAD]', '[PAD]', '[PAD]', '[PAD]', '[PAD]', '[PAD]', '[PAD]', '[PAD]', '[PAD]', '[PAD]', '[PAD]', '[PAD]', '[PAD]', '[PAD]'][SEP][0 0 0 0 0 0 0 0 0 1 1 0 0 0 0 0 0 0 0][SEP][0 0 0 0 0 0 0 0 1 0 1 0 1 0 1 1 0 0 0]\""
     },
     "execution_count": 9,
     "metadata": {},
     "output_type": "execute_result"
    }
   ],
   "source": [
    "datapath = \"../data/output/val_predictions_mbert2.csv\"\n",
    "with open(datapath, \"r\") as f:\n",
    "    raw_data = f.readlines()\n",
    "raw_data = \"\".join(raw_data).replace(\"\\n\", \"\")[1:-5].split(\"[END]\")\n",
    "raw_data[0]"
   ],
   "metadata": {
    "collapsed": false
   }
  },
  {
   "cell_type": "code",
   "execution_count": 10,
   "outputs": [
    {
     "data": {
      "text/plain": "[\"['[CLS]', '¿', 'En', 'qué', 'país', 'se', 'encuentra', 'la', 'ciudad', 'de', 'Tor', '##u', '##ń', '?', '\",\n \"', 'el', 'ciudad', 'de', 'to', '##ru', '##ń', 'él', 'encontrar', 'en', 'el', 'país', 'de', 'polo', '##nia', '.', '\",\n \"', '[PAD]', '[PAD]', '[PAD]', '[PAD]', '[PAD]', '[PAD]', '[PAD]', '[PAD]', '[PAD]', '[PAD]', '[PAD]', '[PAD]', '[PAD]', '[PAD]', '[PAD]', '[PAD]', '[PAD]', '[PAD]', '[PAD]', '[PAD]', '[PAD]', '[PAD]', '[PAD]', '[PAD]', '[PAD]', '[PAD]', '[PAD]', '[PAD]', '[PAD]', '[PAD]', '[PAD]', '[PAD]', '[PAD]', '[PAD]', '[PAD]', '[PAD]', '[PAD]', '[PAD]', '[PAD]', '[PAD]', '[PAD]', '[PAD]', '[PAD]', '[PAD]', '[PAD]', '[PAD]', '[PAD]', '[PAD]', '[PAD]', '[PAD]', '[PAD]', '[PAD]', '[PAD]', '[PAD]', '[PAD]', '[PAD]', '[PAD]', '[PAD]', '[PAD]', '[PAD]', '[PAD]', '[PAD]', '[PAD]', '[PAD]', '[PAD]', '[PAD]', '[PAD]', '[PAD]', '[PAD]', '[PAD]', '[PAD]', '[PAD]', '[PAD]', '[PAD]', '[PAD]', '[PAD]', '[PAD]', '[PAD]', '[PAD]', '[PAD]', '[PAD]', '[PAD]', '[PAD]', '[PAD]', '[PAD]', '[PAD]', '[PAD]', '[PAD]', '[PAD]', '[PAD]', '[PAD]', '[PAD]', '[PAD]', '[PAD]', '[PAD]', '[PAD]', '[PAD]', '[PAD]', '[PAD]', '[PAD]', '[PAD]', '[PAD]', '[PAD]', '[PAD]', '[PAD]', '[PAD]', '[PAD]', '[PAD]', '[PAD]', '[PAD]', '[PAD]', '[PAD]', '[PAD]', '[PAD]', '[PAD]', '[PAD]', '[PAD]', '[PAD]', '[PAD]', '[PAD]', '[PAD]', '[PAD]', '[PAD]', '[PAD]', '[PAD]', '[PAD]', '[PAD]', '[PAD]', '[PAD]', '[PAD]', '[PAD]', '[PAD]', '[PAD]', '[PAD]', '[PAD]', '[PAD]', '[PAD]', '[PAD]', '[PAD]', '[PAD]', '[PAD]', '[PAD]', '[PAD]', '[PAD]', '[PAD]', '[PAD]', '[PAD]', '[PAD]', '[PAD]', '[PAD]', '[PAD]', '[PAD]', '[PAD]', '[PAD]', '[PAD]', '[PAD]', '[PAD]', '[PAD]', '[PAD]', '[PAD]', '[PAD]', '[PAD]', '[PAD]', '[PAD]', '[PAD]', '[PAD]', '[PAD]', '[PAD]', '[PAD]', '[PAD]', '[PAD]', '[PAD]', '[PAD]', '[PAD]', '[PAD]', '[PAD]', '[PAD]', '[PAD]', '[PAD]', '[PAD]', '[PAD]', '[PAD]', '[PAD]', '[PAD]', '[PAD]', '[PAD]', '[PAD]', '[PAD]', '[PAD]', '[PAD]', '[PAD]', '[PAD]', '[PAD]', '[PAD]', '[PAD]', '[PAD]', '[PAD]', '[PAD]', '[PAD]', '[PAD]', '[PAD]', '[PAD]', '[PAD]', '[PAD]', '[PAD]', '[PAD]', '[PAD]', '[PAD]', '[PAD]', '[PAD]', '[PAD]', '[PAD]', '[PAD]', '[PAD]', '[PAD]', '[PAD]', '[PAD]', '[PAD]', '[PAD]', '[PAD]', '[PAD]', '[PAD]', '[PAD]', '[PAD]', '[PAD]']\",\n '[0 0 0 0 0 0 0 0 0 0 0 0]',\n '[1 0 0 0 0 0 0 0 0 0 0 0]']"
     },
     "execution_count": 10,
     "metadata": {},
     "output_type": "execute_result"
    }
   ],
   "source": [
    "data_lists = [row.split(\"[SEP]\") for row in raw_data]\n",
    "data_lists[1]"
   ],
   "metadata": {
    "collapsed": false
   }
  },
  {
   "cell_type": "markdown",
   "source": [
    "each element is now a list of 3 items: query, response, padding, labels, predictions"
   ],
   "metadata": {
    "collapsed": false
   }
  },
  {
   "cell_type": "code",
   "execution_count": 14,
   "outputs": [
    {
     "data": {
      "text/plain": "{'query': '¿ El municipio H ##ü ##ffel ##sheim , está ubicado en el este o el oeste de Alemania ?',\n 'response': 'h ##ü ##ffel ##sheim ser uno municipio ubicado en el estado de bavi ##era , que estar en el oeste de Alemania .',\n 'labels': [0, 0, 0, 0, 0, 0, 0, 0, 0, 1, 1, 0, 0, 0, 0, 0, 0, 0, 0],\n 'predictions': [0, 0, 0, 0, 0, 0, 0, 0, 1, 0, 1, 0, 1, 0, 1, 1, 0, 0, 0]}"
     },
     "execution_count": 14,
     "metadata": {},
     "output_type": "execute_result"
    }
   ],
   "source": [
    "data_dicts = [{\n",
    "    \"query\": row[0].replace(\"', '\", \" \").strip().strip(\"[\").strip(\"]\").strip(\"'\").strip(\"[CLS] \"),\n",
    "    \"response\": row[1].replace(\"', '\", \" \").strip().strip(\"[\").strip(\"]\").strip(\"'\"),\n",
    "    \"labels\": [int(lab) for lab in row[3][1:-1].split()],\n",
    "    \"predictions\": [int(lab) for lab in row[4][1:-1].split()]\n",
    "} for row in data_lists]\n",
    "data_dicts[0]"
   ],
   "metadata": {
    "collapsed": false
   }
  },
  {
   "cell_type": "code",
   "execution_count": 15,
   "outputs": [
    {
     "data": {
      "text/plain": "                                                 query  \\\n0    ¿ El municipio H ##ü ##ffel ##sheim , está ubi...   \n1    ¿ En qué país se encuentra la ciudad de Tor ##...   \n2    ¿ En qué estado de Estados Unidos se encuentra...   \n3                      When did Je ##f Ras ##kin die ?   \n4                      玳 瑁 蜗 牛 属 的 物 种 分 布 在 哪 些 地 区 ？   \n..                                                 ...   \n494  Wie viele Zuschauer haben Platz im Gill ##ette...   \n495  Hu ##r många år har Chris Clare ##mont sk ##ri...   \n496                    金 属 键 决 定 了 金 属 的 哪 些 物 理 性 质 ？   \n497  Gegen welche ##n Verein verlor Hamilton Academ...   \n498  ¿ A qué seres vivos afecta ##n los hon ##gos d...   \n\n                                              response  \\\n0    h ##ü ##ffel ##sheim ser uno municipio ubicado...   \n1    el ciudad de to ##ru ##ń él encontrar en el pa...   \n2    le ##wis ##town él encontrar en el estado de m...   \n3    Je ##f Ra ##kin die on March 1 , 2011 . he be ...   \n4    玳 瑁 螺 （ 学 名 ： Arch ##acha ##tina margin ##ata ...   \n..                                                 ...   \n494  der Gil ##ette Stadium sein mit ein Kap ##azi ...   \n495  den finn ##as ingen känd upp ##ska ##ttning av...   \n496  金 属 晶 体 中 ， 金 属 原 子 之 间 通 过 金 属 结 合 力 （ 金 属 离 ...   \n497  Hamilton Academic ver ##liere ##n in der Play ...   \n498  el hon ##go de el orden er ##ys ##ip ##hale ##...   \n\n                                                labels  \\\n0    [0, 0, 0, 0, 0, 0, 0, 0, 0, 1, 1, 0, 0, 0, 0, ...   \n1                 [0, 0, 0, 0, 0, 0, 0, 0, 0, 0, 0, 0]   \n2                 [0, 0, 0, 0, 0, 0, 0, 1, 1, 0, 0, 0]   \n3        [0, 0, 0, 0, 0, 1, 1, 1, 1, 0, 0, 0, 1, 0, 0]   \n4    [0, 1, 1, 0, 0, 1, 1, 1, 0, 0, 0, 0, 1, 1, 1, ...   \n..                                                 ...   \n494  [0, 0, 0, 0, 0, 0, 0, 0, 0, 0, 1, 0, 1, 1, 1, ...   \n495  [0, 0, 0, 0, 0, 0, 1, 1, 0, 0, 0, 0, 0, 0, 0, ...   \n496  [0, 0, 0, 0, 0, 0, 0, 0, 0, 0, 0, 0, 0, 0, 0, ...   \n497  [0, 0, 0, 0, 0, 0, 0, 0, 0, 0, 1, 1, 0, 0, 1, ...   \n498  [0, 0, 0, 0, 0, 0, 0, 0, 0, 0, 0, 1, 1, 1, 1, ...   \n\n                                           predictions  \n0    [0, 0, 0, 0, 0, 0, 0, 0, 1, 0, 1, 0, 1, 0, 1, ...  \n1                 [1, 0, 0, 0, 0, 0, 0, 0, 0, 0, 0, 0]  \n2                 [0, 1, 0, 0, 1, 0, 0, 0, 0, 0, 0, 0]  \n3        [1, 1, 0, 1, 0, 1, 0, 1, 0, 0, 0, 0, 0, 0, 0]  \n4    [0, 0, 0, 0, 0, 0, 0, 0, 0, 0, 0, 0, 0, 1, 1, ...  \n..                                                 ...  \n494  [0, 0, 0, 0, 0, 0, 0, 1, 0, 1, 1, 0, 1, 1, 1, ...  \n495  [1, 1, 0, 1, 1, 1, 1, 1, 1, 1, 1, 1, 1, 1, 1, ...  \n496  [1, 1, 1, 1, 1, 1, 1, 0, 1, 1, 1, 1, 1, 1, 1, ...  \n497  [0, 0, 0, 0, 0, 0, 0, 0, 1, 0, 0, 0, 0, 0, 0, ...  \n498  [0, 0, 0, 0, 1, 0, 0, 0, 0, 1, 1, 1, 1, 1, 1, ...  \n\n[499 rows x 4 columns]",
      "text/html": "<div>\n<style scoped>\n    .dataframe tbody tr th:only-of-type {\n        vertical-align: middle;\n    }\n\n    .dataframe tbody tr th {\n        vertical-align: top;\n    }\n\n    .dataframe thead th {\n        text-align: right;\n    }\n</style>\n<table border=\"1\" class=\"dataframe\">\n  <thead>\n    <tr style=\"text-align: right;\">\n      <th></th>\n      <th>query</th>\n      <th>response</th>\n      <th>labels</th>\n      <th>predictions</th>\n    </tr>\n  </thead>\n  <tbody>\n    <tr>\n      <th>0</th>\n      <td>¿ El municipio H ##ü ##ffel ##sheim , está ubi...</td>\n      <td>h ##ü ##ffel ##sheim ser uno municipio ubicado...</td>\n      <td>[0, 0, 0, 0, 0, 0, 0, 0, 0, 1, 1, 0, 0, 0, 0, ...</td>\n      <td>[0, 0, 0, 0, 0, 0, 0, 0, 1, 0, 1, 0, 1, 0, 1, ...</td>\n    </tr>\n    <tr>\n      <th>1</th>\n      <td>¿ En qué país se encuentra la ciudad de Tor ##...</td>\n      <td>el ciudad de to ##ru ##ń él encontrar en el pa...</td>\n      <td>[0, 0, 0, 0, 0, 0, 0, 0, 0, 0, 0, 0]</td>\n      <td>[1, 0, 0, 0, 0, 0, 0, 0, 0, 0, 0, 0]</td>\n    </tr>\n    <tr>\n      <th>2</th>\n      <td>¿ En qué estado de Estados Unidos se encuentra...</td>\n      <td>le ##wis ##town él encontrar en el estado de m...</td>\n      <td>[0, 0, 0, 0, 0, 0, 0, 1, 1, 0, 0, 0]</td>\n      <td>[0, 1, 0, 0, 1, 0, 0, 0, 0, 0, 0, 0]</td>\n    </tr>\n    <tr>\n      <th>3</th>\n      <td>When did Je ##f Ras ##kin die ?</td>\n      <td>Je ##f Ra ##kin die on March 1 , 2011 . he be ...</td>\n      <td>[0, 0, 0, 0, 0, 1, 1, 1, 1, 0, 0, 0, 1, 0, 0]</td>\n      <td>[1, 1, 0, 1, 0, 1, 0, 1, 0, 0, 0, 0, 0, 0, 0]</td>\n    </tr>\n    <tr>\n      <th>4</th>\n      <td>玳 瑁 蜗 牛 属 的 物 种 分 布 在 哪 些 地 区 ？</td>\n      <td>玳 瑁 螺 （ 学 名 ： Arch ##acha ##tina margin ##ata ...</td>\n      <td>[0, 1, 1, 0, 0, 1, 1, 1, 0, 0, 0, 0, 1, 1, 1, ...</td>\n      <td>[0, 0, 0, 0, 0, 0, 0, 0, 0, 0, 0, 0, 0, 1, 1, ...</td>\n    </tr>\n    <tr>\n      <th>...</th>\n      <td>...</td>\n      <td>...</td>\n      <td>...</td>\n      <td>...</td>\n    </tr>\n    <tr>\n      <th>494</th>\n      <td>Wie viele Zuschauer haben Platz im Gill ##ette...</td>\n      <td>der Gil ##ette Stadium sein mit ein Kap ##azi ...</td>\n      <td>[0, 0, 0, 0, 0, 0, 0, 0, 0, 0, 1, 0, 1, 1, 1, ...</td>\n      <td>[0, 0, 0, 0, 0, 0, 0, 1, 0, 1, 1, 0, 1, 1, 1, ...</td>\n    </tr>\n    <tr>\n      <th>495</th>\n      <td>Hu ##r många år har Chris Clare ##mont sk ##ri...</td>\n      <td>den finn ##as ingen känd upp ##ska ##ttning av...</td>\n      <td>[0, 0, 0, 0, 0, 0, 1, 1, 0, 0, 0, 0, 0, 0, 0, ...</td>\n      <td>[1, 1, 0, 1, 1, 1, 1, 1, 1, 1, 1, 1, 1, 1, 1, ...</td>\n    </tr>\n    <tr>\n      <th>496</th>\n      <td>金 属 键 决 定 了 金 属 的 哪 些 物 理 性 质 ？</td>\n      <td>金 属 晶 体 中 ， 金 属 原 子 之 间 通 过 金 属 结 合 力 （ 金 属 离 ...</td>\n      <td>[0, 0, 0, 0, 0, 0, 0, 0, 0, 0, 0, 0, 0, 0, 0, ...</td>\n      <td>[1, 1, 1, 1, 1, 1, 1, 0, 1, 1, 1, 1, 1, 1, 1, ...</td>\n    </tr>\n    <tr>\n      <th>497</th>\n      <td>Gegen welche ##n Verein verlor Hamilton Academ...</td>\n      <td>Hamilton Academic ver ##liere ##n in der Play ...</td>\n      <td>[0, 0, 0, 0, 0, 0, 0, 0, 0, 0, 1, 1, 0, 0, 1, ...</td>\n      <td>[0, 0, 0, 0, 0, 0, 0, 0, 1, 0, 0, 0, 0, 0, 0, ...</td>\n    </tr>\n    <tr>\n      <th>498</th>\n      <td>¿ A qué seres vivos afecta ##n los hon ##gos d...</td>\n      <td>el hon ##go de el orden er ##ys ##ip ##hale ##...</td>\n      <td>[0, 0, 0, 0, 0, 0, 0, 0, 0, 0, 0, 1, 1, 1, 1, ...</td>\n      <td>[0, 0, 0, 0, 1, 0, 0, 0, 0, 1, 1, 1, 1, 1, 1, ...</td>\n    </tr>\n  </tbody>\n</table>\n<p>499 rows × 4 columns</p>\n</div>"
     },
     "execution_count": 15,
     "metadata": {},
     "output_type": "execute_result"
    }
   ],
   "source": [
    "df = pd.DataFrame(data_dicts)\n",
    "df"
   ],
   "metadata": {
    "collapsed": false
   }
  },
  {
   "cell_type": "code",
   "execution_count": 13,
   "outputs": [
    {
     "data": {
      "text/plain": "query          [CLS] Welch ##e Rolle spielte Ted Lange in der...\nresponse       A : Ted Lange spielen der Rolle der Bord ##arz...\nlabels         [0, 0, 0, 0, 0, 0, 0, 0, 0, 1, 1, 1, 1, 0, 0, ...\npredictions    [0, 0, 0, 0, 0, 0, 0, 0, 0, 0, 0, 1, 1, 1, 1, ...\nName: 110, dtype: object"
     },
     "execution_count": 13,
     "metadata": {},
     "output_type": "execute_result"
    }
   ],
   "source": [
    "df.iloc[110]"
   ],
   "metadata": {
    "collapsed": false
   }
  },
  {
   "cell_type": "code",
   "execution_count": 17,
   "outputs": [
    {
     "data": {
      "text/plain": "                                                 query  \\\n0    ¿ El municipio H ##ü ##ffel ##sheim , está ubi...   \n1    ¿ En qué país se encuentra la ciudad de Tor ##...   \n2    ¿ En qué estado de Estados Unidos se encuentra...   \n3                      When did Je ##f Ras ##kin die ?   \n4                      玳 瑁 蜗 牛 属 的 物 种 分 布 在 哪 些 地 区 ？   \n..                                                 ...   \n494  Wie viele Zuschauer haben Platz im Gill ##ette...   \n495  Hu ##r många år har Chris Clare ##mont sk ##ri...   \n496                    金 属 键 决 定 了 金 属 的 哪 些 物 理 性 质 ？   \n497  Gegen welche ##n Verein verlor Hamilton Academ...   \n498  ¿ A qué seres vivos afecta ##n los hon ##gos d...   \n\n                                              response  \\\n0    h ##ü ##ffel ##sheim ser uno municipio ubicado...   \n1    el ciudad de to ##ru ##ń él encontrar en el pa...   \n2    le ##wis ##town él encontrar en el estado de m...   \n3    Je ##f Ra ##kin die on March 1 , 2011 . he be ...   \n4    玳 瑁 螺 （ 学 名 ： Arch ##acha ##tina margin ##ata ...   \n..                                                 ...   \n494  der Gil ##ette Stadium sein mit ein Kap ##azi ...   \n495  den finn ##as ingen känd upp ##ska ##ttning av...   \n496  金 属 晶 体 中 ， 金 属 原 子 之 间 通 过 金 属 结 合 力 （ 金 属 离 ...   \n497  Hamilton Academic ver ##liere ##n in der Play ...   \n498  el hon ##go de el orden er ##ys ##ip ##hale ##...   \n\n                                                labels  \\\n0    [0, 0, 0, 0, 0, 0, 0, 0, 0, 1, 1, 0, 0, 0, 0, ...   \n1                 [0, 0, 0, 0, 0, 0, 0, 0, 0, 0, 0, 0]   \n2                 [0, 0, 0, 0, 0, 0, 0, 1, 1, 0, 0, 0]   \n3        [0, 0, 0, 0, 0, 1, 1, 1, 1, 0, 0, 0, 1, 0, 0]   \n4    [0, 1, 1, 0, 0, 1, 1, 1, 0, 0, 0, 0, 1, 1, 1, ...   \n..                                                 ...   \n494  [0, 0, 0, 0, 0, 0, 0, 0, 0, 0, 1, 0, 1, 1, 1, ...   \n495  [0, 0, 0, 0, 0, 0, 1, 1, 0, 0, 0, 0, 0, 0, 0, ...   \n496  [0, 0, 0, 0, 0, 0, 0, 0, 0, 0, 0, 0, 0, 0, 0, ...   \n497  [0, 0, 0, 0, 0, 0, 0, 0, 0, 0, 1, 1, 0, 0, 1, ...   \n498  [0, 0, 0, 0, 0, 0, 0, 0, 0, 0, 0, 1, 1, 1, 1, ...   \n\n                                           predictions  accuracy    recall  \n0    [0, 0, 0, 0, 0, 0, 0, 0, 1, 0, 1, 0, 1, 0, 1, ...  0.736842  0.500000  \n1                 [1, 0, 0, 0, 0, 0, 0, 0, 0, 0, 0, 0]  0.916667  0.000000  \n2                 [0, 1, 0, 0, 1, 0, 0, 0, 0, 0, 0, 0]  0.666667  0.000000  \n3        [1, 1, 0, 1, 0, 1, 0, 1, 0, 0, 0, 0, 0, 0, 0]  0.600000  0.400000  \n4    [0, 0, 0, 0, 0, 0, 0, 0, 0, 0, 0, 0, 0, 1, 1, ...  0.494118  0.446809  \n..                                                 ...       ...       ...  \n494  [0, 0, 0, 0, 0, 0, 0, 1, 0, 1, 1, 0, 1, 1, 1, ...  0.833333  0.857143  \n495  [1, 1, 0, 1, 1, 1, 1, 1, 1, 1, 1, 1, 1, 1, 1, ...  0.176471  1.000000  \n496  [1, 1, 1, 1, 1, 1, 1, 0, 1, 1, 1, 1, 1, 1, 1, ...  0.466667  0.000000  \n497  [0, 0, 0, 0, 0, 0, 0, 0, 1, 0, 0, 0, 0, 0, 0, ...  0.631579  0.000000  \n498  [0, 0, 0, 0, 1, 0, 0, 0, 0, 1, 1, 1, 1, 1, 1, ...  0.589744  0.642857  \n\n[499 rows x 6 columns]",
      "text/html": "<div>\n<style scoped>\n    .dataframe tbody tr th:only-of-type {\n        vertical-align: middle;\n    }\n\n    .dataframe tbody tr th {\n        vertical-align: top;\n    }\n\n    .dataframe thead th {\n        text-align: right;\n    }\n</style>\n<table border=\"1\" class=\"dataframe\">\n  <thead>\n    <tr style=\"text-align: right;\">\n      <th></th>\n      <th>query</th>\n      <th>response</th>\n      <th>labels</th>\n      <th>predictions</th>\n      <th>accuracy</th>\n      <th>recall</th>\n    </tr>\n  </thead>\n  <tbody>\n    <tr>\n      <th>0</th>\n      <td>¿ El municipio H ##ü ##ffel ##sheim , está ubi...</td>\n      <td>h ##ü ##ffel ##sheim ser uno municipio ubicado...</td>\n      <td>[0, 0, 0, 0, 0, 0, 0, 0, 0, 1, 1, 0, 0, 0, 0, ...</td>\n      <td>[0, 0, 0, 0, 0, 0, 0, 0, 1, 0, 1, 0, 1, 0, 1, ...</td>\n      <td>0.736842</td>\n      <td>0.500000</td>\n    </tr>\n    <tr>\n      <th>1</th>\n      <td>¿ En qué país se encuentra la ciudad de Tor ##...</td>\n      <td>el ciudad de to ##ru ##ń él encontrar en el pa...</td>\n      <td>[0, 0, 0, 0, 0, 0, 0, 0, 0, 0, 0, 0]</td>\n      <td>[1, 0, 0, 0, 0, 0, 0, 0, 0, 0, 0, 0]</td>\n      <td>0.916667</td>\n      <td>0.000000</td>\n    </tr>\n    <tr>\n      <th>2</th>\n      <td>¿ En qué estado de Estados Unidos se encuentra...</td>\n      <td>le ##wis ##town él encontrar en el estado de m...</td>\n      <td>[0, 0, 0, 0, 0, 0, 0, 1, 1, 0, 0, 0]</td>\n      <td>[0, 1, 0, 0, 1, 0, 0, 0, 0, 0, 0, 0]</td>\n      <td>0.666667</td>\n      <td>0.000000</td>\n    </tr>\n    <tr>\n      <th>3</th>\n      <td>When did Je ##f Ras ##kin die ?</td>\n      <td>Je ##f Ra ##kin die on March 1 , 2011 . he be ...</td>\n      <td>[0, 0, 0, 0, 0, 1, 1, 1, 1, 0, 0, 0, 1, 0, 0]</td>\n      <td>[1, 1, 0, 1, 0, 1, 0, 1, 0, 0, 0, 0, 0, 0, 0]</td>\n      <td>0.600000</td>\n      <td>0.400000</td>\n    </tr>\n    <tr>\n      <th>4</th>\n      <td>玳 瑁 蜗 牛 属 的 物 种 分 布 在 哪 些 地 区 ？</td>\n      <td>玳 瑁 螺 （ 学 名 ： Arch ##acha ##tina margin ##ata ...</td>\n      <td>[0, 1, 1, 0, 0, 1, 1, 1, 0, 0, 0, 0, 1, 1, 1, ...</td>\n      <td>[0, 0, 0, 0, 0, 0, 0, 0, 0, 0, 0, 0, 0, 1, 1, ...</td>\n      <td>0.494118</td>\n      <td>0.446809</td>\n    </tr>\n    <tr>\n      <th>...</th>\n      <td>...</td>\n      <td>...</td>\n      <td>...</td>\n      <td>...</td>\n      <td>...</td>\n      <td>...</td>\n    </tr>\n    <tr>\n      <th>494</th>\n      <td>Wie viele Zuschauer haben Platz im Gill ##ette...</td>\n      <td>der Gil ##ette Stadium sein mit ein Kap ##azi ...</td>\n      <td>[0, 0, 0, 0, 0, 0, 0, 0, 0, 0, 1, 0, 1, 1, 1, ...</td>\n      <td>[0, 0, 0, 0, 0, 0, 0, 1, 0, 1, 1, 0, 1, 1, 1, ...</td>\n      <td>0.833333</td>\n      <td>0.857143</td>\n    </tr>\n    <tr>\n      <th>495</th>\n      <td>Hu ##r många år har Chris Clare ##mont sk ##ri...</td>\n      <td>den finn ##as ingen känd upp ##ska ##ttning av...</td>\n      <td>[0, 0, 0, 0, 0, 0, 1, 1, 0, 0, 0, 0, 0, 0, 0, ...</td>\n      <td>[1, 1, 0, 1, 1, 1, 1, 1, 1, 1, 1, 1, 1, 1, 1, ...</td>\n      <td>0.176471</td>\n      <td>1.000000</td>\n    </tr>\n    <tr>\n      <th>496</th>\n      <td>金 属 键 决 定 了 金 属 的 哪 些 物 理 性 质 ？</td>\n      <td>金 属 晶 体 中 ， 金 属 原 子 之 间 通 过 金 属 结 合 力 （ 金 属 离 ...</td>\n      <td>[0, 0, 0, 0, 0, 0, 0, 0, 0, 0, 0, 0, 0, 0, 0, ...</td>\n      <td>[1, 1, 1, 1, 1, 1, 1, 0, 1, 1, 1, 1, 1, 1, 1, ...</td>\n      <td>0.466667</td>\n      <td>0.000000</td>\n    </tr>\n    <tr>\n      <th>497</th>\n      <td>Gegen welche ##n Verein verlor Hamilton Academ...</td>\n      <td>Hamilton Academic ver ##liere ##n in der Play ...</td>\n      <td>[0, 0, 0, 0, 0, 0, 0, 0, 0, 0, 1, 1, 0, 0, 1, ...</td>\n      <td>[0, 0, 0, 0, 0, 0, 0, 0, 1, 0, 0, 0, 0, 0, 0, ...</td>\n      <td>0.631579</td>\n      <td>0.000000</td>\n    </tr>\n    <tr>\n      <th>498</th>\n      <td>¿ A qué seres vivos afecta ##n los hon ##gos d...</td>\n      <td>el hon ##go de el orden er ##ys ##ip ##hale ##...</td>\n      <td>[0, 0, 0, 0, 0, 0, 0, 0, 0, 0, 0, 1, 1, 1, 1, ...</td>\n      <td>[0, 0, 0, 0, 1, 0, 0, 0, 0, 1, 1, 1, 1, 1, 1, ...</td>\n      <td>0.589744</td>\n      <td>0.642857</td>\n    </tr>\n  </tbody>\n</table>\n<p>499 rows × 6 columns</p>\n</div>"
     },
     "execution_count": 17,
     "metadata": {},
     "output_type": "execute_result"
    }
   ],
   "source": [
    "df['accuracy'] = df.apply(lambda row: compute_accuracy(row['labels'], row['predictions']), axis=1)\n",
    "df['recall'] = df.apply(lambda row: compute_recall(row['labels'], row['predictions']), axis=1)\n",
    "df"
   ],
   "metadata": {
    "collapsed": false
   }
  },
  {
   "cell_type": "markdown",
   "source": [
    "# Ideas to go on:\n",
    "\n",
    "- Try other tokenisers, e.g. using a language specific one for each observation\n",
    "- Thus far we havent lemmatized the query before training, maybe that would help\n",
    "- Try different max_lens\n",
    "- Try different batch sizes"
   ],
   "metadata": {
    "collapsed": false
   }
  },
  {
   "cell_type": "code",
   "execution_count": null,
   "outputs": [],
   "source": [],
   "metadata": {
    "collapsed": false
   }
  }
 ],
 "metadata": {
  "kernelspec": {
   "display_name": "Python 3",
   "language": "python",
   "name": "python3"
  },
  "language_info": {
   "codemirror_mode": {
    "name": "ipython",
    "version": 2
   },
   "file_extension": ".py",
   "mimetype": "text/x-python",
   "name": "python",
   "nbconvert_exporter": "python",
   "pygments_lexer": "ipython2",
   "version": "2.7.6"
  }
 },
 "nbformat": 4,
 "nbformat_minor": 0
}
